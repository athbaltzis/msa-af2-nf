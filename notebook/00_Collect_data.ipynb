{
 "cells": [
  {
   "cell_type": "markdown",
   "id": "154ce7ee",
   "metadata": {},
   "source": [
    "Change to the directory that the analysis is carried out"
   ]
  },
  {
   "cell_type": "code",
   "execution_count": 1,
   "id": "30f907f6",
   "metadata": {},
   "outputs": [
    {
     "name": "stdout",
     "output_type": "stream",
     "text": [
      "/nfs/users2/cn/abaltzis/projects/3_predictions/pred-nf-dsl2/data/pdb/first_run/test\n"
     ]
    }
   ],
   "source": [
    "%cd ../data/pdb/first_run/test"
   ]
  },
  {
   "cell_type": "markdown",
   "id": "3b90750f",
   "metadata": {},
   "source": [
    "Collect the results from all the data"
   ]
  },
  {
   "cell_type": "code",
   "execution_count": null,
   "id": "85f6e9cc",
   "metadata": {},
   "outputs": [],
   "source": [
    "!find PF* -maxdepth 0 -type d > list_of_fams"
   ]
  },
  {
   "cell_type": "code",
   "execution_count": null,
   "id": "7e37f6d3",
   "metadata": {},
   "outputs": [],
   "source": [
    "!../../../../bin/aggregate_res.sh"
   ]
  }
 ],
 "metadata": {
  "kernelspec": {
   "display_name": "Python 3 (ipykernel)",
   "language": "python",
   "name": "python3"
  },
  "language_info": {
   "codemirror_mode": {
    "name": "ipython",
    "version": 3
   },
   "file_extension": ".py",
   "mimetype": "text/x-python",
   "name": "python",
   "nbconvert_exporter": "python",
   "pygments_lexer": "ipython3",
   "version": "3.9.5"
  }
 },
 "nbformat": 4,
 "nbformat_minor": 5
}
