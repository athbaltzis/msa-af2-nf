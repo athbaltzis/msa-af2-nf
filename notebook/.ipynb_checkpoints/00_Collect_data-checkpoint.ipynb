{
 "cells": [
  {
   "cell_type": "markdown",
   "id": "154ce7ee",
   "metadata": {},
   "source": [
    "Test"
   ]
  },
  {
   "cell_type": "code",
   "execution_count": 1,
   "id": "30f907f6",
   "metadata": {},
   "outputs": [
    {
     "name": "stdout",
     "output_type": "stream",
     "text": [
      "/nfs/users2/cn/abaltzis/projects/3_predictions/pred-nf-dsl2/data/pdb/first_run/test\n"
     ]
    }
   ],
   "source": [
    "%cd ../data/pdb/first_run/test"
   ]
  },
  {
   "cell_type": "code",
   "execution_count": 3,
   "id": "85f6e9cc",
   "metadata": {},
   "outputs": [],
   "source": [
    "!find PF* -maxdepth 0 -type d > list_of_fams"
   ]
  },
  {
   "cell_type": "code",
   "execution_count": 4,
   "id": "7e37f6d3",
   "metadata": {},
   "outputs": [
    {
     "name": "stdout",
     "output_type": "stream",
     "text": [
      "list_of_fams  PF13895\t trace.txt.1  trace.txt.3  work\r\n",
      "PF13306       trace.txt  trace.txt.2  trace.txt.4\r\n"
     ]
    }
   ],
   "source": [
    "!../../../../bin/aggregate_res.sh"
   ]
  },
  {
   "cell_type": "code",
   "execution_count": null,
   "id": "9eaddebf",
   "metadata": {},
   "outputs": [],
   "source": []
  }
 ],
 "metadata": {
  "kernelspec": {
   "display_name": "Python 3 (ipykernel)",
   "language": "python",
   "name": "python3"
  },
  "language_info": {
   "codemirror_mode": {
    "name": "ipython",
    "version": 3
   },
   "file_extension": ".py",
   "mimetype": "text/x-python",
   "name": "python",
   "nbconvert_exporter": "python",
   "pygments_lexer": "ipython3",
   "version": "3.9.5"
  }
 },
 "nbformat": 4,
 "nbformat_minor": 5
}
